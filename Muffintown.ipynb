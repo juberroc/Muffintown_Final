{
 "cells": [
  {
   "cell_type": "code",
   "execution_count": 9,
   "metadata": {},
   "outputs": [
    {
     "name": "stdout",
     "output_type": "stream",
     "text": [
      "   Equipment ID         Group Name        Date Current Job  \\\n",
      "0            20  LAWRENCE AUTOBAKE  2020-08-24       96605   \n",
      "1            20  LAWRENCE AUTOBAKE  2020-08-24       24970   \n",
      "2            20  LAWRENCE AUTOBAKE  2020-08-24        7910   \n",
      "3            20  LAWRENCE AUTOBAKE  2020-08-25       24970   \n",
      "4            20  LAWRENCE AUTOBAKE  2020-08-25       27805   \n",
      "\n",
      "  Start of Batch Date/Time End of Batch Date/Time  Batch Count  User1  \\\n",
      "0      2020-08-24 12:20:32     8/24/2020 19:42:41         2445  96605   \n",
      "1      2020-08-24 19:42:41     8/24/2020 20:00:05            3  24970   \n",
      "2      2020-08-24 20:00:05     8/24/2020 20:19:10           49   7910   \n",
      "3      2020-08-24 20:19:11     8/25/2020 06:54:17          504  24970   \n",
      "4      2020-08-25 06:54:18     8/25/2020 15:17:31         2087  27805   \n",
      "\n",
      "  LINE -LOCATION (Eqp Code)  Optimal Cases Per Hour  Lower Target  \\\n",
      "0              EQP-LAWPACK1                   347.0         312.3   \n",
      "1              EQP-LAWPACK1                   364.0         327.6   \n",
      "2              EQP-LAWPACK1                   349.0         314.1   \n",
      "3              EQP-LAWPACK1                   364.0         327.6   \n",
      "4              EQP-LAWPACK1                   260.0         234.0   \n",
      "\n",
      "   Upper Target  \n",
      "0         381.7  \n",
      "1         400.4  \n",
      "2         383.9  \n",
      "3         400.4  \n",
      "4         286.0  \n"
     ]
    }
   ],
   "source": [
    "import pandas as pd\n",
    "\n",
    "file_path = '/Users/julioberrocal/Desktop/Classes/Winter 2024/Advanced Programming/Final Project/Query for BABSON Project-2.xlsx'\n",
    "sheetname = '2. Line Performance'\n",
    "df = pd.read_excel(file_path, sheet_name=sheetname)\n",
    "\n",
    "print(df.head())\n"
   ]
  },
  {
   "cell_type": "code",
   "execution_count": 11,
   "metadata": {},
   "outputs": [
    {
     "name": "stdout",
     "output_type": "stream",
     "text": [
      "  Start of Batch Date/Time End of Batch Date/Time  Batch Length (Hours)\n",
      "0      2020-08-24 12:20:32    2020-08-24 19:42:41              7.369167\n",
      "1      2020-08-24 19:42:41    2020-08-24 20:00:05              0.290000\n",
      "2      2020-08-24 20:00:05    2020-08-24 20:19:10              0.318056\n",
      "3      2020-08-24 20:19:11    2020-08-25 06:54:17             10.585000\n",
      "4      2020-08-25 06:54:18    2020-08-25 15:17:31              8.386944\n"
     ]
    }
   ],
   "source": [
    "# Converting columns to Datetime\n",
    "df['Start of Batch Date/Time'] = pd.to_datetime(df['Start of Batch Date/Time'])\n",
    "df['End of Batch Date/Time'] = pd.to_datetime(df['End of Batch Date/Time'])\n",
    "\n",
    "# Calculating the batch length in hours\n",
    "df['Batch Length (Hours)'] = (df['End of Batch Date/Time'] - df['Start of Batch Date/Time']).dt.total_seconds() / 3600\n",
    "\n",
    "# Checking results\n",
    "print(df[['Start of Batch Date/Time', 'End of Batch Date/Time', 'Batch Length (Hours)']].head())\n"
   ]
  },
  {
   "cell_type": "code",
   "execution_count": 12,
   "metadata": {},
   "outputs": [
    {
     "name": "stdout",
     "output_type": "stream",
     "text": [
      "   Equipment ID         Group Name        Date Current Job  \\\n",
      "0            20  LAWRENCE AUTOBAKE  2020-08-24       96605   \n",
      "1            20  LAWRENCE AUTOBAKE  2020-08-24       24970   \n",
      "2            20  LAWRENCE AUTOBAKE  2020-08-24        7910   \n",
      "3            20  LAWRENCE AUTOBAKE  2020-08-25       24970   \n",
      "4            20  LAWRENCE AUTOBAKE  2020-08-25       27805   \n",
      "\n",
      "  Start of Batch Date/Time End of Batch Date/Time  Batch Count  User1  \\\n",
      "0      2020-08-24 12:20:32    2020-08-24 19:42:41         2445  96605   \n",
      "1      2020-08-24 19:42:41    2020-08-24 20:00:05            3  24970   \n",
      "2      2020-08-24 20:00:05    2020-08-24 20:19:10           49   7910   \n",
      "3      2020-08-24 20:19:11    2020-08-25 06:54:17          504  24970   \n",
      "4      2020-08-25 06:54:18    2020-08-25 15:17:31         2087  27805   \n",
      "\n",
      "  LINE -LOCATION (Eqp Code)  Optimal Cases Per Hour  Lower Target  \\\n",
      "0              EQP-LAWPACK1                   347.0         312.3   \n",
      "1              EQP-LAWPACK1                   364.0         327.6   \n",
      "2              EQP-LAWPACK1                   349.0         314.1   \n",
      "3              EQP-LAWPACK1                   364.0         327.6   \n",
      "4              EQP-LAWPACK1                   260.0         234.0   \n",
      "\n",
      "   Upper Target  Batch Length (Hours)  Units Per Hour  \n",
      "0         381.7              7.369167      331.787855  \n",
      "1         400.4              0.290000       10.344828  \n",
      "2         383.9              0.318056      154.061135  \n",
      "3         400.4             10.585000       47.614549  \n",
      "4         286.0              8.386944      248.839135  \n"
     ]
    }
   ],
   "source": [
    "# Creating Units per Hour Column\n",
    "df['Units Per Hour'] = df['Batch Count'] / df['Batch Length (Hours)']\n",
    "\n",
    "print(df.head())\n"
   ]
  },
  {
   "cell_type": "code",
   "execution_count": 13,
   "metadata": {},
   "outputs": [
    {
     "name": "stdout",
     "output_type": "stream",
     "text": [
      "Compliant data saved to Compliant Data.xlsx\n",
      "Damaged data saved to Non-Compliant Data.xlsx\n"
     ]
    }
   ],
   "source": [
    "# Finding Compliant Data\n",
    "compliant_df = df[(df['Units Per Hour'] >= df['Lower Target']) & (df['Units Per Hour'] <= df['Upper Target'])]\n",
    "damaged_df = df[(df['Units Per Hour'] < df['Lower Target']) | (df['Units Per Hour'] > df['Upper Target'])]\n",
    "\n",
    "compliant_file_path = 'Compliant Data.xlsx'\n",
    "damaged_file_path = 'Non-Compliant Data.xlsx'\n",
    "\n",
    "compliant_df.to_excel(compliant_file_path, index=False, engine='openpyxl')\n",
    "damaged_df.to_excel(damaged_file_path, index=False, engine='openpyxl')\n",
    "\n",
    "print(f\"Compliant data saved to {compliant_file_path}\")\n",
    "print(f\"Damaged data saved to {damaged_file_path}\")"
   ]
  }
 ],
 "metadata": {
  "kernelspec": {
   "display_name": "Python 3.9.1 64-bit",
   "language": "python",
   "name": "python3"
  },
  "language_info": {
   "codemirror_mode": {
    "name": "ipython",
    "version": 3
   },
   "file_extension": ".py",
   "mimetype": "text/x-python",
   "name": "python",
   "nbconvert_exporter": "python",
   "pygments_lexer": "ipython3",
   "version": "3.9.1"
  },
  "orig_nbformat": 4,
  "vscode": {
   "interpreter": {
    "hash": "aee8b7b246df8f9039afb4144a1f6fd8d2ca17a180786b69acc140d282b71a49"
   }
  }
 },
 "nbformat": 4,
 "nbformat_minor": 2
}
