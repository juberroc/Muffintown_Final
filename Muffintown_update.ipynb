{
 "cells": [
  {
   "cell_type": "code",
   "execution_count": 20,
   "metadata": {},
   "outputs": [],
   "source": [
    "import pandas as pd\n",
    "import numpy as np\n",
    "import matplotlib.pyplot as plt"
   ]
  },
  {
   "cell_type": "code",
   "execution_count": 10,
   "metadata": {},
   "outputs": [
    {
     "name": "stdout",
     "output_type": "stream",
     "text": [
      "2939\n",
      "The number of compliant observations is: 429 or 15.0 percent.\n",
      "The number of non-compliant observations is: 2510 or 85.0 percent.\n"
     ]
    }
   ],
   "source": [
    "def prepare_df():\n",
    "\n",
    "    file_path = '/Users/julioberrocal/Desktop/Classes/Winter 2024/Advanced Programming/Final Project/Muffintown_Final/Query for BABSON Project-2.xlsx'\n",
    "    sheetname = '2. Line Performance'\n",
    "    df = pd.read_excel(file_path, sheet_name=sheetname)\n",
    "    \n",
    "    # Converting columns to Datetime\n",
    "    df['Start of Batch Date/Time'] = pd.to_datetime(df['Start of Batch Date/Time'])\n",
    "    df['End of Batch Date/Time'] = pd.to_datetime(df['End of Batch Date/Time'])\n",
    "\n",
    "    # Calculating the batch length in hours\n",
    "    df['Batch Length (Hours)'] = (df['End of Batch Date/Time'] - df['Start of Batch Date/Time']).dt.total_seconds() / 3600\n",
    "\n",
    "    # Creating Units per Hour Column\n",
    "    df['Units Per Hour'] = df['Batch Count'] / df['Batch Length (Hours)']\n",
    "\n",
    "    # Remove rows with missing values in 'Optimal Cases Per Hour' column\n",
    "    df.dropna(subset=['Optimal Cases Per Hour'], inplace=True)\n",
    "\n",
    "    compliant_df = df[(df['Units Per Hour'] >= df['Lower Target']) & (df['Units Per Hour'] <= df['Upper Target'])]\n",
    "    non_compliant_df = df[(df['Units Per Hour'] < df['Lower Target']) | (df['Units Per Hour'] > df['Upper Target'])]\n",
    "\n",
    "    total_observations = len(df)\n",
    "    print(total_observations)\n",
    "    pct_compliant = 100 * round(len(compliant_df)/total_observations,2)\n",
    "    pct_non_compliant = 100 * round(len(non_compliant_df)/total_observations,2)\n",
    "\n",
    "    print(f'The number of compliant observations is: {len(compliant_df)} or {pct_compliant} percent.')\n",
    "    print(f'The number of non-compliant observations is: {len(non_compliant_df)} or {pct_non_compliant} percent.')\n",
    "\n",
    "    return df\n",
    "\n",
    "initial_df = prepare_df()"
   ]
  },
  {
   "cell_type": "code",
   "execution_count": null,
   "metadata": {},
   "outputs": [],
   "source": [
    "def analyze_sku(df, skus):\n",
    "    analysis_results = []\n",
    "    \n",
    "    for sku in skus:\n",
    "        # Filter by the current SKU\n",
    "        filtered_df = df[df['Current Job'] == sku]\n",
    "        \n",
    "        # Number of records for the SKU\n",
    "        records = len(filtered_df)\n",
    "        \n",
    "        # Percentage of compliant records for the SKU\n",
    "        compliant_records = len(filtered_df[(filtered_df['Units Per Hour'] >= filtered_df['Lower Target']) & \n",
    "                                                (filtered_df['Units Per Hour'] <= filtered_df['Upper Target'])])\n",
    "        \n",
    "        compliance_percentage = round((compliant_records / records),2) * 100 if records != 0 else 0\n",
    "        \n",
    "        # Average units per hour of the SKU\n",
    "        avg_units_per_hour = round(filtered_df['Units Per Hour'].mean(),2)\n",
    "        \n",
    "        # Standard deviation of units per hour of the SKU\n",
    "        stdev_units_per_hour = round(filtered_df['Units Per Hour'].std(),2)\n",
    "\n",
    "        # Plot histogram of units per hour for the SKU\n",
    "        plt.figure(figsize=(8, 6))\n",
    "        plt.hist(filtered_df['Units Per Hour'], bins=20, color='skyblue', edgecolor='black')\n",
    "        plt.title(f'Units Per Hour Distribution for SKU: {sku}')\n",
    "        plt.xlabel('Units Per Hour')\n",
    "        plt.ylabel('Frequency')\n",
    "        plt.grid(True)\n",
    "        plt.savefig(f'{sku}_histogram.png')\n",
    "\n",
    "        analysis_results.append({\n",
    "            'SKU': sku,\n",
    "            'Number of Records': records,\n",
    "            'Percentage of Compliant Records': compliance_percentage,\n",
    "            'Average Units Per Hour': avg_units_per_hour,\n",
    "            'Standard Deviation of Units Per Hour': stdev_units_per_hour\n",
    "        })\n",
    "    \n",
    "    return analysis_results\n",
    "\n",
    "skus = ['96605', '24970']\n",
    "sku_results = analyze_sku(initial_df, skus)\n",
    "for result in sku_results:\n",
    "    print(result)\n"
   ]
  },
  {
   "cell_type": "code",
   "execution_count": 23,
   "metadata": {},
   "outputs": [
    {
     "name": "stdout",
     "output_type": "stream",
     "text": [
      "{'Group Name': 'LAWRENCE AUTOBAKE', 'Number of Records': 2200, 'Percentage of Compliant Records': 19.0}\n",
      "{'Group Name': 'LAWRENCE - SW PACK', 'Number of Records': 471, 'Percentage of Compliant Records': 1.0}\n"
     ]
    }
   ],
   "source": [
    "def analyze_group(df, group_names):\n",
    "    analysis_results = []\n",
    "    \n",
    "    for group_name in group_names:\n",
    "        # Filter by the current Group Name\n",
    "        filtered_df = df[df['Group Name'] == group_name]\n",
    "        \n",
    "        # Number of records for the Group Name\n",
    "        records = len(filtered_df)\n",
    "        \n",
    "        # Percentage of compliant records for the Group Name\n",
    "        compliant_records = len(filtered_df[(filtered_df['Units Per Hour'] >= filtered_df['Lower Target']) & \n",
    "                                                (filtered_df['Units Per Hour'] <= filtered_df['Upper Target'])])\n",
    "        compliance_percentage = round((compliant_records / records),2) * 100 if records != 0 else 0\n",
    "        \n",
    "        analysis_results.append({\n",
    "            'Group Name': group_name,\n",
    "            'Number of Records': records,\n",
    "            'Percentage of Compliant Records': compliance_percentage,\n",
    "        })\n",
    "    \n",
    "    return analysis_results\n",
    "\n",
    "group_names = ['LAWRENCE AUTOBAKE', 'LAWRENCE - SW PACK']\n",
    "group_results = analyze_group(initial_df, group_names)\n",
    "for result in group_results:\n",
    "    print(result)\n"
   ]
  }
 ],
 "metadata": {
  "kernelspec": {
   "display_name": "Python 3.9.1 64-bit",
   "language": "python",
   "name": "python3"
  },
  "language_info": {
   "codemirror_mode": {
    "name": "ipython",
    "version": 3
   },
   "file_extension": ".py",
   "mimetype": "text/x-python",
   "name": "python",
   "nbconvert_exporter": "python",
   "pygments_lexer": "ipython3",
   "version": "3.9.1"
  },
  "orig_nbformat": 4,
  "vscode": {
   "interpreter": {
    "hash": "aee8b7b246df8f9039afb4144a1f6fd8d2ca17a180786b69acc140d282b71a49"
   }
  }
 },
 "nbformat": 4,
 "nbformat_minor": 2
}
